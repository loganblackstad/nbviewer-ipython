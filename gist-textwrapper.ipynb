{
 "cells": [
  {
   "cell_type": "code",
   "execution_count": null,
   "metadata": {},
   "outputs": [],
   "source": [
    "\"\"\"\n",
    "Date:   13 Mar 2020\n",
    "Name:   Logan Blackstad\n",
    "Title:  gist-textwrapper\n",
    "\n",
    "src:    https://www.geeksforgeeks.org/textwrap-text-wrapping-filling-python/\n",
    "\n",
    "Description:\n",
    "The textwrap module can be used for wrapping and formatting of plain text. This\n",
    "module provides formatting of text by adjusting the line breaks in the input\n",
    "paragraph.\n",
    "\"\"\""
   ]
  },
  {
   "cell_type": "code",
   "execution_count": 1,
   "metadata": {},
   "outputs": [
    {
     "name": "stdout",
     "output_type": "stream",
     "text": [
      "The textwrap module can be used for wrapping and formatting of plain text. This\n",
      "module provides formatting of text by adjusting the line breaks in the input\n",
      "paragraph.\n"
     ]
    }
   ],
   "source": [
    "import textwrap \n",
    "\n",
    "# put text to be wrapped in triple quotes below  \"\"\"<text>\"\"\" \n",
    "value = \"\"\"The textwrap module can be used for wrapping and formatting of plain text. This module provides formatting of text by adjusting the line breaks in the input paragraph.\"\"\"\n",
    "\n",
    "wrapper = textwrap.TextWrapper(width=80)  # Set wrap character length\n",
    "word_list = wrapper.wrap(text=value)  # split input into a list\n",
    "\n",
    "# Print each line of the list \n",
    "for element in word_list: \n",
    "\tprint(element) \n",
    "    "
   ]
  },
  {
   "cell_type": "code",
   "execution_count": 2,
   "metadata": {},
   "outputs": [
    {
     "name": "stdout",
     "output_type": "stream",
     "text": [
      "The textwrap module can be used for wrapping and formatting of plain text. This\n",
      "module provides formatting of text by adjusting the line breaks in the input\n",
      "paragraph.\n"
     ]
    }
   ],
   "source": [
    "string = wrapper.fill(text=value)  # returns a string instead of a list; much simpler IMO\n",
    "  \n",
    "print (string) "
   ]
  },
  {
   "cell_type": "code",
   "execution_count": null,
   "metadata": {},
   "outputs": [],
   "source": []
  }
 ],
 "metadata": {
  "kernelspec": {
   "display_name": "Python 3",
   "language": "python",
   "name": "python3"
  },
  "language_info": {
   "codemirror_mode": {
    "name": "ipython",
    "version": 3
   },
   "file_extension": ".py",
   "mimetype": "text/x-python",
   "name": "python",
   "nbconvert_exporter": "python",
   "pygments_lexer": "ipython3",
   "version": "3.7.6"
  }
 },
 "nbformat": 4,
 "nbformat_minor": 4
}
